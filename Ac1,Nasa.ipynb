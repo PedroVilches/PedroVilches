{
  "nbformat": 4,
  "nbformat_minor": 0,
  "metadata": {
    "colab": {
      "provenance": [],
      "authorship_tag": "ABX9TyOi5IL2ba5jnO+2E6mDx2PT",
      "include_colab_link": true
    },
    "kernelspec": {
      "name": "python3",
      "display_name": "Python 3"
    },
    "language_info": {
      "name": "python"
    }
  },
  "cells": [
    {
      "cell_type": "markdown",
      "metadata": {
        "id": "view-in-github",
        "colab_type": "text"
      },
      "source": [
        "<a href=\"https://colab.research.google.com/github/PedroVilches/PedroVilches/blob/main/Ac1%2CNasa.ipynb\" target=\"_parent\"><img src=\"https://colab.research.google.com/assets/colab-badge.svg\" alt=\"Open In Colab\"/></a>"
      ]
    },
    {
      "cell_type": "code",
      "execution_count": 18,
      "metadata": {
        "id": "8Ja-rQyAOAyP"
      },
      "outputs": [],
      "source": [
        "import requests"
      ]
    },
    {
      "cell_type": "code",
      "source": [
        "robo = input(\"Diigte o robô que gostaria de ver\")\n",
        "camera = input(\"Digite a camera que gostaria de ver\")\n",
        "resposta = requests.get(\"https://api.nasa.gov/mars-photos/api/v1/rovers/{}/photos?sol=1000&camera={}&api_key=QeGjnwAkgA1LApoBJw8fUIqhoXbHjukMhVb3PovM\".format(robo, camera))\n",
        "print(resposta)\n",
        "resposta.json()"
      ],
      "metadata": {
        "colab": {
          "base_uri": "https://localhost:8080/"
        },
        "id": "wQ9KnXE8zqbs",
        "outputId": "b627da3f-978b-459e-d260-416c31cceb6b"
      },
      "execution_count": 22,
      "outputs": [
        {
          "output_type": "stream",
          "name": "stdout",
          "text": [
            "Diigte o robô que gostaria de vercuriosity\n",
            "Digite a camera que gostaria de verfhaz\n",
            "<Response [200]>\n"
          ]
        },
        {
          "output_type": "execute_result",
          "data": {
            "text/plain": [
              "{'photos': [{'id': 102693,\n",
              "   'sol': 1000,\n",
              "   'camera': {'id': 20,\n",
              "    'name': 'FHAZ',\n",
              "    'rover_id': 5,\n",
              "    'full_name': 'Front Hazard Avoidance Camera'},\n",
              "   'img_src': 'http://mars.jpl.nasa.gov/msl-raw-images/proj/msl/redops/ods/surface/sol/01000/opgs/edr/fcam/FLB_486265257EDR_F0481570FHAZ00323M_.JPG',\n",
              "   'earth_date': '2015-05-30',\n",
              "   'rover': {'id': 5,\n",
              "    'name': 'Curiosity',\n",
              "    'landing_date': '2012-08-06',\n",
              "    'launch_date': '2011-11-26',\n",
              "    'status': 'active',\n",
              "    'max_sol': 4102,\n",
              "    'max_date': '2024-02-19',\n",
              "    'total_photos': 695670,\n",
              "    'cameras': [{'name': 'FHAZ', 'full_name': 'Front Hazard Avoidance Camera'},\n",
              "     {'name': 'NAVCAM', 'full_name': 'Navigation Camera'},\n",
              "     {'name': 'MAST', 'full_name': 'Mast Camera'},\n",
              "     {'name': 'CHEMCAM', 'full_name': 'Chemistry and Camera Complex'},\n",
              "     {'name': 'MAHLI', 'full_name': 'Mars Hand Lens Imager'},\n",
              "     {'name': 'MARDI', 'full_name': 'Mars Descent Imager'},\n",
              "     {'name': 'RHAZ', 'full_name': 'Rear Hazard Avoidance Camera'}]}},\n",
              "  {'id': 102694,\n",
              "   'sol': 1000,\n",
              "   'camera': {'id': 20,\n",
              "    'name': 'FHAZ',\n",
              "    'rover_id': 5,\n",
              "    'full_name': 'Front Hazard Avoidance Camera'},\n",
              "   'img_src': 'http://mars.jpl.nasa.gov/msl-raw-images/proj/msl/redops/ods/surface/sol/01000/opgs/edr/fcam/FRB_486265257EDR_F0481570FHAZ00323M_.JPG',\n",
              "   'earth_date': '2015-05-30',\n",
              "   'rover': {'id': 5,\n",
              "    'name': 'Curiosity',\n",
              "    'landing_date': '2012-08-06',\n",
              "    'launch_date': '2011-11-26',\n",
              "    'status': 'active',\n",
              "    'max_sol': 4102,\n",
              "    'max_date': '2024-02-19',\n",
              "    'total_photos': 695670,\n",
              "    'cameras': [{'name': 'FHAZ', 'full_name': 'Front Hazard Avoidance Camera'},\n",
              "     {'name': 'NAVCAM', 'full_name': 'Navigation Camera'},\n",
              "     {'name': 'MAST', 'full_name': 'Mast Camera'},\n",
              "     {'name': 'CHEMCAM', 'full_name': 'Chemistry and Camera Complex'},\n",
              "     {'name': 'MAHLI', 'full_name': 'Mars Hand Lens Imager'},\n",
              "     {'name': 'MARDI', 'full_name': 'Mars Descent Imager'},\n",
              "     {'name': 'RHAZ', 'full_name': 'Rear Hazard Avoidance Camera'}]}}]}"
            ]
          },
          "metadata": {},
          "execution_count": 22
        }
      ]
    },
    {
      "cell_type": "code",
      "source": [
        "import requests\n",
        "\n",
        "robo = input(\"Digite o robô que gostaria de ver: \")\n",
        "camera = input(\"Digite a câmera que gostaria de ver: \")\n",
        "api_key = \"QeGjnwAkgA1LApoBJw8fUIqhoXbHjukMhVb3PovM\"\n",
        "resposta = requests.get(f\"https://api.nasa.gov/mars-photos/api/v1/rovers/{robo}/photos?sol=1000&camera={camera}&api_key={api_key}\")\n",
        "if resposta.status_code == 200:\n",
        "    dados = resposta.json()\n",
        "    if 'photos' in dados and len(dados['photos']) > 0:\n",
        "        for foto in dados['photos']:\n",
        "            link_imagem = foto['img_src']\n",
        "            print(\"Os links da imagens são\",link_imagem)\n",
        "    else:\n",
        "        print(\"Nenhuma foto disponível para o robô e câmera especificados.\")\n",
        "else:\n",
        "    print(\"Erro ao fazer a solicitação à API. Código de status:\", resposta.status_code)"
      ],
      "metadata": {
        "id": "HFFWz1e-tEM4",
        "colab": {
          "base_uri": "https://localhost:8080/"
        },
        "outputId": "1f357851-5bb8-4eea-ba70-7cc0603f3072"
      },
      "execution_count": 26,
      "outputs": [
        {
          "output_type": "stream",
          "name": "stdout",
          "text": [
            "Digite o robô que gostaria de ver: curiosity\n",
            "Digite a câmera que gostaria de ver: fhaz\n",
            "Os links da imagens são http://mars.jpl.nasa.gov/msl-raw-images/proj/msl/redops/ods/surface/sol/01000/opgs/edr/fcam/FLB_486265257EDR_F0481570FHAZ00323M_.JPG\n",
            "Os links da imagens são http://mars.jpl.nasa.gov/msl-raw-images/proj/msl/redops/ods/surface/sol/01000/opgs/edr/fcam/FRB_486265257EDR_F0481570FHAZ00323M_.JPG\n"
          ]
        }
      ]
    }
  ]
}